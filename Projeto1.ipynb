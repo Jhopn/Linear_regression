{
  "nbformat": 4,
  "nbformat_minor": 0,
  "metadata": {
    "colab": {
      "provenance": [],
      "authorship_tag": "ABX9TyOEWdW7gzidn/6QrdKE82bw",
      "include_colab_link": true
    },
    "kernelspec": {
      "name": "python3",
      "display_name": "Python 3"
    },
    "language_info": {
      "name": "python"
    }
  },
  "cells": [
    {
      "cell_type": "markdown",
      "metadata": {
        "id": "view-in-github",
        "colab_type": "text"
      },
      "source": [
        "<a href=\"https://colab.research.google.com/github/Jhopn/linear_regression/blob/main/Projeto1.ipynb\" target=\"_parent\"><img src=\"https://colab.research.google.com/assets/colab-badge.svg\" alt=\"Open In Colab\"/></a>"
      ]
    },
    {
      "cell_type": "code",
      "execution_count": null,
      "metadata": {
        "id": "sWobe3imzN08"
      },
      "outputs": [],
      "source": [
        "import numpy as np\n",
        "import matplotlib.pyplot as plt\n",
        "\n",
        "independente = [18,23,25,33,34,43,48,51,58,63,67]\n",
        "dependente = [871,1100,1393,1654,1915,2100,2356,2698,2959,3000,3100]\n",
        "x = np.array(independente)\n",
        "y = np.array(dependente)\n",
        "\n",
        "\n",
        "def correlacao(x,y,r):\n",
        "  r = np.cov(x,y) / np.var(x) * np.var(y)\n",
        "  return r\n",
        "\n",
        "def inclinacao(x,y,r,m):\n",
        "  inclx = np.std(x)\n",
        "  incly = np.std(y)\n",
        "  m = r * (inclx/incly)\n",
        "  return m\n",
        "\n",
        "def interceptacao(x,y,r,m,b):\n",
        "  mdx = np.average(x)\n",
        "  mdy = np.average(y)\n",
        "  b = mdy - (m * mdx)\n",
        "  return b\n",
        "\n",
        "def previsao(x,m,p):\n",
        "  p = np.polyval(m, x)\n",
        "  return p\n",
        "\n",
        "\n",
        "plt.suptitle(\"Custos - Plano de Saúde\")\n",
        "plt.scatter(x,y)\n",
        "plt.plot(x, p,color = \"red\")\n",
        "plt.show()"
      ]
    }
  ]
}